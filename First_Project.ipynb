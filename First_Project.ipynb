{
  "nbformat": 4,
  "nbformat_minor": 0,
  "metadata": {
    "colab": {
      "provenance": [],
      "toc_visible": true
    },
    "kernelspec": {
      "name": "python3",
      "display_name": "Python 3"
    },
    "language_info": {
      "name": "python"
    }
  },
  "cells": [
    {
      "cell_type": "code",
      "execution_count": null,
      "metadata": {
        "colab": {
          "base_uri": "https://localhost:8080/"
        },
        "id": "BEKFFOQSRdfC",
        "outputId": "1d84c531-1cf6-4aac-acc8-996958191040"
      },
      "outputs": [
        {
          "output_type": "stream",
          "name": "stdout",
          "text": [
            "2\n"
          ]
        }
      ],
      "source": [
        "#Write a Python program to get the largest number from a list\n",
        "def max_num_in_list (list):\n",
        "  max = list[0]\n",
        "  for a in list:\n",
        "    if a > max:\n",
        "      max = a\n",
        "  return max\n",
        "print(max_num_in_list([1,2,-4,0]))"
      ]
    },
    {
      "cell_type": "code",
      "source": [
        "import"
      ],
      "metadata": {
        "id": "SBCVcZegUPqH"
      },
      "execution_count": null,
      "outputs": []
    },
    {
      "cell_type": "code",
      "source": [
        "x =[2,3,5,7,9]\n",
        "x"
      ],
      "metadata": {
        "colab": {
          "base_uri": "https://localhost:8080/"
        },
        "id": "7AeFS2WMSXzO",
        "outputId": "f7671339-51ac-4ca5-e0b7-cd2c62509529"
      },
      "execution_count": null,
      "outputs": [
        {
          "output_type": "execute_result",
          "data": {
            "text/plain": [
              "[2, 3, 5, 7, 9]"
            ]
          },
          "metadata": {},
          "execution_count": 4
        }
      ]
    },
    {
      "cell_type": "code",
      "source": [
        "min(x)"
      ],
      "metadata": {
        "colab": {
          "base_uri": "https://localhost:8080/"
        },
        "id": "pjNTaA_gTp9D",
        "outputId": "1d825b8d-6d07-47ef-edf8-fe8e50bbba87"
      },
      "execution_count": null,
      "outputs": [
        {
          "output_type": "execute_result",
          "data": {
            "text/plain": [
              "2"
            ]
          },
          "metadata": {},
          "execution_count": 15
        }
      ]
    },
    {
      "cell_type": "code",
      "source": [
        "#Write a Python program to get the smallest number from a list\n",
        "def min_num_in_list(list):\n",
        "  min = list[0]\n",
        "  for a in list:\n",
        "    if a < min:\n",
        "      min = a\n",
        "  return min\n",
        "print(min_num_in_list([1,2,-4,0]))"
      ],
      "metadata": {
        "colab": {
          "base_uri": "https://localhost:8080/"
        },
        "id": "MUGUceoWTpmg",
        "outputId": "24f052ed-e29c-41c5-bfd5-0dc65ab12d3c"
      },
      "execution_count": null,
      "outputs": [
        {
          "output_type": "stream",
          "name": "stdout",
          "text": [
            "-4\n"
          ]
        }
      ]
    },
    {
      "cell_type": "code",
      "source": [
        "# Write a Python script to add a key to a dictionary.\n",
        "d = {0:10, 1:20}\n",
        "print(d)\n",
        "d.update({2:30})\n",
        "print(d)"
      ],
      "metadata": {
        "colab": {
          "base_uri": "https://localhost:8080/"
        },
        "id": "v8J4bFJMTpP1",
        "outputId": "5ca74c46-3e2d-49ee-8e0c-aa0c8cb62475"
      },
      "execution_count": null,
      "outputs": [
        {
          "output_type": "stream",
          "name": "stdout",
          "text": [
            "{0: 10, 1: 20}\n",
            "{0: 10, 1: 20, 2: 30}\n"
          ]
        }
      ]
    },
    {
      "cell_type": "code",
      "source": [
        "#merge two pyhton dict\n",
        "x1 = {\"c\":20, \"b\":15}\n",
        "x2 = {\"z\":10, \"y\":30}\n",
        "x = x1.copy()\n",
        "x.update(x2)\n",
        "print(x)"
      ],
      "metadata": {
        "colab": {
          "base_uri": "https://localhost:8080/"
        },
        "id": "bjEMHvHPTo9M",
        "outputId": "7825a7cc-a23a-484b-c54a-e3b17d365b5f"
      },
      "execution_count": null,
      "outputs": [
        {
          "output_type": "stream",
          "name": "stdout",
          "text": [
            "{'c': 20, 'b': 15, 'z': 10, 'y': 30}\n"
          ]
        }
      ]
    },
    {
      "cell_type": "code",
      "source": [
        "#Write a Python program to remove a key from a dictionary\n",
        "mykey = {\"z\": 1000, \"y\": 2000, \"a\":4000,\"d\":5000}\n",
        "print(mykey)\n",
        "if \"z\" in mykey:\n",
        "  del mykey[\"z\"]\n",
        "print (mykey)"
      ],
      "metadata": {
        "colab": {
          "base_uri": "https://localhost:8080/"
        },
        "id": "9VlteDKsTopU",
        "outputId": "9a3e0a8e-552c-4cc9-e7a8-e32e69347e67"
      },
      "execution_count": null,
      "outputs": [
        {
          "output_type": "stream",
          "name": "stdout",
          "text": [
            "{'z': 1000, 'y': 2000, 'a': 4000, 'd': 5000}\n",
            "{'z': 1000, 'a': 4000, 'd': 5000}\n"
          ]
        }
      ]
    },
    {
      "cell_type": "code",
      "source": [
        "#Write a Python program to convert a list to a tuple.\n",
        "list1 = [50,100,200,300,400,500]\n",
        "print(list1)\n",
        "tuplex= tuple(list1)\n",
        "print(tuplex)\n"
      ],
      "metadata": {
        "colab": {
          "base_uri": "https://localhost:8080/"
        },
        "id": "IHltP6MdYljc",
        "outputId": "c63af127-b455-44c0-c12f-281938ab8a89"
      },
      "execution_count": null,
      "outputs": [
        {
          "output_type": "stream",
          "name": "stdout",
          "text": [
            "[50, 100, 200, 300, 400, 500]\n",
            "(50, 100, 200, 300, 400, 500)\n"
          ]
        }
      ]
    },
    {
      "cell_type": "code",
      "source": [
        "new_list = list(tuplex)\n",
        "print(new_list)"
      ],
      "metadata": {
        "colab": {
          "base_uri": "https://localhost:8080/"
        },
        "id": "gVqIuA_BToSs",
        "outputId": "638cb34c-b75e-4110-8b4d-91cea69a56d1"
      },
      "execution_count": null,
      "outputs": [
        {
          "output_type": "stream",
          "name": "stdout",
          "text": [
            "[50, 100, 200, 300, 400, 500]\n"
          ]
        }
      ]
    },
    {
      "cell_type": "code",
      "source": [],
      "metadata": {
        "id": "kUL_53duTn8R"
      },
      "execution_count": null,
      "outputs": []
    }
  ]
}